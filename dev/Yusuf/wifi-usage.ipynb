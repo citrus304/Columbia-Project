{
 "cells": [
  {
   "cell_type": "code",
   "execution_count": 31,
   "metadata": {},
   "outputs": [],
   "source": [
    "import matplotlib.pyplot as plt\n",
    "import pandas as pd\n",
    "import numpy as np\n",
    "import scipy.stats as st"
   ]
  },
  {
   "cell_type": "code",
   "execution_count": 32,
   "metadata": {},
   "outputs": [],
   "source": [
    "wifi = \"wifi.csv\"\n",
    "usage = \"usage.csv\"\n",
    "\n",
    "wifi = pd.read_csv(wifi)\n",
    "usage = pd.read_csv(usage)"
   ]
  },
  {
   "cell_type": "code",
   "execution_count": 33,
   "metadata": {
    "scrolled": true
   },
   "outputs": [
    {
     "data": {
      "text/html": [
       "<div>\n",
       "<style scoped>\n",
       "    .dataframe tbody tr th:only-of-type {\n",
       "        vertical-align: middle;\n",
       "    }\n",
       "\n",
       "    .dataframe tbody tr th {\n",
       "        vertical-align: top;\n",
       "    }\n",
       "\n",
       "    .dataframe thead th {\n",
       "        text-align: right;\n",
       "    }\n",
       "</style>\n",
       "<table border=\"1\" class=\"dataframe\">\n",
       "  <thead>\n",
       "    <tr style=\"text-align: right;\">\n",
       "      <th></th>\n",
       "      <th>OBJECTID</th>\n",
       "      <th>Borough</th>\n",
       "      <th>Type</th>\n",
       "      <th>Provider</th>\n",
       "      <th>Name</th>\n",
       "      <th>Location</th>\n",
       "      <th>Latitude</th>\n",
       "      <th>Longitude</th>\n",
       "      <th>X</th>\n",
       "      <th>Y</th>\n",
       "      <th>...</th>\n",
       "      <th>Neighborhood Tabulation Area (NTA)</th>\n",
       "      <th>Council Distrcit</th>\n",
       "      <th>Postcode</th>\n",
       "      <th>BoroCD</th>\n",
       "      <th>Census Tract</th>\n",
       "      <th>BCTCB2010</th>\n",
       "      <th>BIN</th>\n",
       "      <th>BBL</th>\n",
       "      <th>DOITT_ID</th>\n",
       "      <th>Location (Lat, Long)</th>\n",
       "    </tr>\n",
       "  </thead>\n",
       "  <tbody>\n",
       "    <tr>\n",
       "      <td>0</td>\n",
       "      <td>10362</td>\n",
       "      <td>3</td>\n",
       "      <td>Limited Free</td>\n",
       "      <td>ALTICEUSA</td>\n",
       "      <td>Linden Park</td>\n",
       "      <td>IN PARK PLAYGROUND AREA</td>\n",
       "      <td>40.658385</td>\n",
       "      <td>-73.887583</td>\n",
       "      <td>1.015441e+06</td>\n",
       "      <td>179163.810029</td>\n",
       "      <td>...</td>\n",
       "      <td>East New York</td>\n",
       "      <td>42</td>\n",
       "      <td>11207</td>\n",
       "      <td>305</td>\n",
       "      <td>1104</td>\n",
       "      <td>1104</td>\n",
       "      <td>0</td>\n",
       "      <td>3043490001</td>\n",
       "      <td>217</td>\n",
       "      <td>(40.658385, -73.8875829994)</td>\n",
       "    </tr>\n",
       "    <tr>\n",
       "      <td>1</td>\n",
       "      <td>10447</td>\n",
       "      <td>4</td>\n",
       "      <td>Limited Free</td>\n",
       "      <td>SPECTRUM</td>\n",
       "      <td>Elmhurst Park</td>\n",
       "      <td>Park Area</td>\n",
       "      <td>40.728838</td>\n",
       "      <td>-73.883751</td>\n",
       "      <td>1.016470e+06</td>\n",
       "      <td>204833.279032</td>\n",
       "      <td>...</td>\n",
       "      <td>Elmhurst</td>\n",
       "      <td>25</td>\n",
       "      <td>11373</td>\n",
       "      <td>404</td>\n",
       "      <td>499</td>\n",
       "      <td>499</td>\n",
       "      <td>0</td>\n",
       "      <td>0</td>\n",
       "      <td>824</td>\n",
       "      <td>(40.7288380002, -73.8837509996)</td>\n",
       "    </tr>\n",
       "    <tr>\n",
       "      <td>2</td>\n",
       "      <td>10605</td>\n",
       "      <td>3</td>\n",
       "      <td>Free</td>\n",
       "      <td>AT&amp;T</td>\n",
       "      <td>Hillside Park</td>\n",
       "      <td>Near Vine St and Columbia Heights</td>\n",
       "      <td>40.701500</td>\n",
       "      <td>-73.994300</td>\n",
       "      <td>9.858305e+05</td>\n",
       "      <td>194851.884952</td>\n",
       "      <td>...</td>\n",
       "      <td>Brooklyn Heights-Cobble Hill</td>\n",
       "      <td>33</td>\n",
       "      <td>11201</td>\n",
       "      <td>302</td>\n",
       "      <td>1</td>\n",
       "      <td>1</td>\n",
       "      <td>0</td>\n",
       "      <td>3002050001</td>\n",
       "      <td>1409</td>\n",
       "      <td>(40.7014999998, -73.9943000006)</td>\n",
       "    </tr>\n",
       "    <tr>\n",
       "      <td>3</td>\n",
       "      <td>9753</td>\n",
       "      <td>3</td>\n",
       "      <td>Free</td>\n",
       "      <td>NYCHA</td>\n",
       "      <td>0</td>\n",
       "      <td>331 Myrtle Ave</td>\n",
       "      <td>40.693442</td>\n",
       "      <td>-73.973193</td>\n",
       "      <td>9.916838e+05</td>\n",
       "      <td>191917.129995</td>\n",
       "      <td>...</td>\n",
       "      <td>Fort Greene</td>\n",
       "      <td>35</td>\n",
       "      <td>11205</td>\n",
       "      <td>302</td>\n",
       "      <td>18501</td>\n",
       "      <td>18501</td>\n",
       "      <td>3335255</td>\n",
       "      <td>3020410001</td>\n",
       "      <td>665</td>\n",
       "      <td>(40.6934417997, -73.9731930998)</td>\n",
       "    </tr>\n",
       "    <tr>\n",
       "      <td>4</td>\n",
       "      <td>9884</td>\n",
       "      <td>3</td>\n",
       "      <td>Free</td>\n",
       "      <td>Downtown Brooklyn</td>\n",
       "      <td>NaN</td>\n",
       "      <td>409 Fulton St.</td>\n",
       "      <td>40.692178</td>\n",
       "      <td>-73.988304</td>\n",
       "      <td>9.874935e+05</td>\n",
       "      <td>191455.769697</td>\n",
       "      <td>...</td>\n",
       "      <td>DUMBO-Vinegar Hill-Downtown Brooklyn-Boerum Hill</td>\n",
       "      <td>33</td>\n",
       "      <td>11201</td>\n",
       "      <td>302</td>\n",
       "      <td>11</td>\n",
       "      <td>11</td>\n",
       "      <td>3000281</td>\n",
       "      <td>3001440001</td>\n",
       "      <td>1028</td>\n",
       "      <td>(40.6921780001, -73.9883039999)</td>\n",
       "    </tr>\n",
       "  </tbody>\n",
       "</table>\n",
       "<p>5 rows × 29 columns</p>\n",
       "</div>"
      ],
      "text/plain": [
       "   OBJECTID  Borough          Type           Provider           Name  \\\n",
       "0     10362        3  Limited Free          ALTICEUSA    Linden Park   \n",
       "1     10447        4  Limited Free           SPECTRUM  Elmhurst Park   \n",
       "2     10605        3          Free               AT&T  Hillside Park   \n",
       "3      9753        3          Free              NYCHA              0   \n",
       "4      9884        3          Free  Downtown Brooklyn            NaN   \n",
       "\n",
       "                            Location   Latitude  Longitude             X  \\\n",
       "0            IN PARK PLAYGROUND AREA  40.658385 -73.887583  1.015441e+06   \n",
       "1                          Park Area  40.728838 -73.883751  1.016470e+06   \n",
       "2  Near Vine St and Columbia Heights  40.701500 -73.994300  9.858305e+05   \n",
       "3                     331 Myrtle Ave  40.693442 -73.973193  9.916838e+05   \n",
       "4                     409 Fulton St.  40.692178 -73.988304  9.874935e+05   \n",
       "\n",
       "               Y  ...                Neighborhood Tabulation Area (NTA)  \\\n",
       "0  179163.810029  ...                                     East New York   \n",
       "1  204833.279032  ...                                          Elmhurst   \n",
       "2  194851.884952  ...                      Brooklyn Heights-Cobble Hill   \n",
       "3  191917.129995  ...                                       Fort Greene   \n",
       "4  191455.769697  ...  DUMBO-Vinegar Hill-Downtown Brooklyn-Boerum Hill   \n",
       "\n",
       "  Council Distrcit Postcode BoroCD Census Tract BCTCB2010      BIN  \\\n",
       "0               42    11207    305         1104      1104        0   \n",
       "1               25    11373    404          499       499        0   \n",
       "2               33    11201    302            1         1        0   \n",
       "3               35    11205    302        18501     18501  3335255   \n",
       "4               33    11201    302           11        11  3000281   \n",
       "\n",
       "          BBL DOITT_ID             Location (Lat, Long)  \n",
       "0  3043490001      217      (40.658385, -73.8875829994)  \n",
       "1           0      824  (40.7288380002, -73.8837509996)  \n",
       "2  3002050001     1409  (40.7014999998, -73.9943000006)  \n",
       "3  3020410001      665  (40.6934417997, -73.9731930998)  \n",
       "4  3001440001     1028  (40.6921780001, -73.9883039999)  \n",
       "\n",
       "[5 rows x 29 columns]"
      ]
     },
     "execution_count": 33,
     "metadata": {},
     "output_type": "execute_result"
    }
   ],
   "source": [
    "wifi.head()"
   ]
  },
  {
   "cell_type": "code",
   "execution_count": 34,
   "metadata": {},
   "outputs": [
    {
     "data": {
      "text/plain": [
       "Index(['OBJECTID', 'Borough', 'Type', 'Provider', 'Name', 'Location',\n",
       "       'Latitude', 'Longitude', 'X', 'Y', 'Location_T', 'Remarks', 'City',\n",
       "       'SSID', 'SourceID', 'Activated', 'BoroCode', 'Borough Name',\n",
       "       'Neighborhood Tabulation Area Code (NTACODE)',\n",
       "       'Neighborhood Tabulation Area (NTA)', 'Council Distrcit', 'Postcode',\n",
       "       'BoroCD', 'Census Tract', 'BCTCB2010', 'BIN', 'BBL', 'DOITT_ID',\n",
       "       'Location (Lat, Long)'],\n",
       "      dtype='object')"
      ]
     },
     "execution_count": 34,
     "metadata": {},
     "output_type": "execute_result"
    }
   ],
   "source": [
    "wifi.columns"
   ]
  },
  {
   "cell_type": "code",
   "execution_count": 35,
   "metadata": {},
   "outputs": [],
   "source": [
    "wifi.drop(labels=['Borough', 'Type', 'Latitude', 'Longitude', 'X', 'Y',\n",
    "                  'BoroCode','Neighborhood Tabulation Area Code (NTACODE)',\n",
    "                  'BoroCD', 'Census Tract', 'BCTCB2010', 'BIN', 'BBL', 'DOITT_ID',\n",
    "                  'Location (Lat, Long)'], axis=1, inplace=True)"
   ]
  },
  {
   "cell_type": "code",
   "execution_count": 36,
   "metadata": {
    "scrolled": true
   },
   "outputs": [
    {
     "data": {
      "text/html": [
       "<div>\n",
       "<style scoped>\n",
       "    .dataframe tbody tr th:only-of-type {\n",
       "        vertical-align: middle;\n",
       "    }\n",
       "\n",
       "    .dataframe tbody tr th {\n",
       "        vertical-align: top;\n",
       "    }\n",
       "\n",
       "    .dataframe thead th {\n",
       "        text-align: right;\n",
       "    }\n",
       "</style>\n",
       "<table border=\"1\" class=\"dataframe\">\n",
       "  <thead>\n",
       "    <tr style=\"text-align: right;\">\n",
       "      <th></th>\n",
       "      <th>OBJECTID</th>\n",
       "      <th>Provider</th>\n",
       "      <th>Name</th>\n",
       "      <th>Location</th>\n",
       "      <th>Location_T</th>\n",
       "      <th>Remarks</th>\n",
       "      <th>City</th>\n",
       "      <th>SSID</th>\n",
       "      <th>SourceID</th>\n",
       "      <th>Activated</th>\n",
       "      <th>Borough Name</th>\n",
       "      <th>Neighborhood Tabulation Area (NTA)</th>\n",
       "      <th>Council Distrcit</th>\n",
       "      <th>Postcode</th>\n",
       "    </tr>\n",
       "  </thead>\n",
       "  <tbody>\n",
       "    <tr>\n",
       "      <td>0</td>\n",
       "      <td>10362</td>\n",
       "      <td>ALTICEUSA</td>\n",
       "      <td>Linden Park</td>\n",
       "      <td>IN PARK PLAYGROUND AREA</td>\n",
       "      <td>Outdoor</td>\n",
       "      <td>3 free 10 min sessions</td>\n",
       "      <td>Brooklyn</td>\n",
       "      <td>GuestWiFi</td>\n",
       "      <td>NaN</td>\n",
       "      <td>09/09/9999</td>\n",
       "      <td>Brooklyn</td>\n",
       "      <td>East New York</td>\n",
       "      <td>42</td>\n",
       "      <td>11207</td>\n",
       "    </tr>\n",
       "    <tr>\n",
       "      <td>1</td>\n",
       "      <td>10447</td>\n",
       "      <td>SPECTRUM</td>\n",
       "      <td>Elmhurst Park</td>\n",
       "      <td>Park Area</td>\n",
       "      <td>Outdoor TWC Aerial</td>\n",
       "      <td>3 free 10 min sessions</td>\n",
       "      <td>Queens</td>\n",
       "      <td>GuestWiFi</td>\n",
       "      <td>0</td>\n",
       "      <td>09/09/9999</td>\n",
       "      <td>Queens</td>\n",
       "      <td>Elmhurst</td>\n",
       "      <td>25</td>\n",
       "      <td>11373</td>\n",
       "    </tr>\n",
       "    <tr>\n",
       "      <td>2</td>\n",
       "      <td>10605</td>\n",
       "      <td>AT&amp;T</td>\n",
       "      <td>Hillside Park</td>\n",
       "      <td>Near Vine St and Columbia Heights</td>\n",
       "      <td>Outdoor</td>\n",
       "      <td>NaN</td>\n",
       "      <td>Brooklyn</td>\n",
       "      <td>attwifi</td>\n",
       "      <td>NaN</td>\n",
       "      <td>09/09/9999</td>\n",
       "      <td>Brooklyn</td>\n",
       "      <td>Brooklyn Heights-Cobble Hill</td>\n",
       "      <td>33</td>\n",
       "      <td>11201</td>\n",
       "    </tr>\n",
       "    <tr>\n",
       "      <td>3</td>\n",
       "      <td>9753</td>\n",
       "      <td>NYCHA</td>\n",
       "      <td>0</td>\n",
       "      <td>331 Myrtle Ave</td>\n",
       "      <td>Outdoor</td>\n",
       "      <td>NaN</td>\n",
       "      <td>Brooklyn</td>\n",
       "      <td>DowntownBrooklynWiFi_Fon</td>\n",
       "      <td>NaN</td>\n",
       "      <td>09/09/9999</td>\n",
       "      <td>Brooklyn</td>\n",
       "      <td>Fort Greene</td>\n",
       "      <td>35</td>\n",
       "      <td>11205</td>\n",
       "    </tr>\n",
       "    <tr>\n",
       "      <td>4</td>\n",
       "      <td>9884</td>\n",
       "      <td>Downtown Brooklyn</td>\n",
       "      <td>NaN</td>\n",
       "      <td>409 Fulton St.</td>\n",
       "      <td>Outdoor</td>\n",
       "      <td>NaN</td>\n",
       "      <td>Brooklyn</td>\n",
       "      <td>Downtown Brooklyn WiFi</td>\n",
       "      <td>NaN</td>\n",
       "      <td>09/09/9999</td>\n",
       "      <td>Brooklyn</td>\n",
       "      <td>DUMBO-Vinegar Hill-Downtown Brooklyn-Boerum Hill</td>\n",
       "      <td>33</td>\n",
       "      <td>11201</td>\n",
       "    </tr>\n",
       "  </tbody>\n",
       "</table>\n",
       "</div>"
      ],
      "text/plain": [
       "   OBJECTID           Provider           Name  \\\n",
       "0     10362          ALTICEUSA    Linden Park   \n",
       "1     10447           SPECTRUM  Elmhurst Park   \n",
       "2     10605               AT&T  Hillside Park   \n",
       "3      9753              NYCHA              0   \n",
       "4      9884  Downtown Brooklyn            NaN   \n",
       "\n",
       "                            Location          Location_T  \\\n",
       "0            IN PARK PLAYGROUND AREA             Outdoor   \n",
       "1                          Park Area  Outdoor TWC Aerial   \n",
       "2  Near Vine St and Columbia Heights             Outdoor   \n",
       "3                     331 Myrtle Ave             Outdoor   \n",
       "4                     409 Fulton St.             Outdoor   \n",
       "\n",
       "                  Remarks      City                      SSID SourceID  \\\n",
       "0  3 free 10 min sessions  Brooklyn                 GuestWiFi      NaN   \n",
       "1  3 free 10 min sessions    Queens                 GuestWiFi        0   \n",
       "2                     NaN  Brooklyn                   attwifi      NaN   \n",
       "3                     NaN  Brooklyn  DowntownBrooklynWiFi_Fon      NaN   \n",
       "4                     NaN  Brooklyn    Downtown Brooklyn WiFi      NaN   \n",
       "\n",
       "    Activated Borough Name                Neighborhood Tabulation Area (NTA)  \\\n",
       "0  09/09/9999     Brooklyn                                     East New York   \n",
       "1  09/09/9999       Queens                                          Elmhurst   \n",
       "2  09/09/9999     Brooklyn                      Brooklyn Heights-Cobble Hill   \n",
       "3  09/09/9999     Brooklyn                                       Fort Greene   \n",
       "4  09/09/9999     Brooklyn  DUMBO-Vinegar Hill-Downtown Brooklyn-Boerum Hill   \n",
       "\n",
       "   Council Distrcit  Postcode  \n",
       "0                42     11207  \n",
       "1                25     11373  \n",
       "2                33     11201  \n",
       "3                35     11205  \n",
       "4                33     11201  "
      ]
     },
     "execution_count": 36,
     "metadata": {},
     "output_type": "execute_result"
    }
   ],
   "source": [
    "wifi.head()"
   ]
  },
  {
   "cell_type": "code",
   "execution_count": 37,
   "metadata": {},
   "outputs": [
    {
     "name": "stdout",
     "output_type": "stream",
     "text": [
      "<class 'pandas.core.frame.DataFrame'>\n",
      "RangeIndex: 3319 entries, 0 to 3318\n",
      "Data columns (total 14 columns):\n",
      "OBJECTID                              3319 non-null int64\n",
      "Provider                              3319 non-null object\n",
      "Name                                  3089 non-null object\n",
      "Location                              3319 non-null object\n",
      "Location_T                            3319 non-null object\n",
      "Remarks                               2771 non-null object\n",
      "City                                  3319 non-null object\n",
      "SSID                                  3319 non-null object\n",
      "SourceID                              2257 non-null object\n",
      "Activated                             3319 non-null object\n",
      "Borough Name                          3319 non-null object\n",
      "Neighborhood Tabulation Area (NTA)    3319 non-null object\n",
      "Council Distrcit                      3319 non-null int64\n",
      "Postcode                              3319 non-null int64\n",
      "dtypes: int64(3), object(11)\n",
      "memory usage: 363.1+ KB\n"
     ]
    }
   ],
   "source": [
    "wifi.info()"
   ]
  },
  {
   "cell_type": "code",
   "execution_count": 38,
   "metadata": {},
   "outputs": [
    {
     "data": {
      "text/plain": [
       "(3319, 14)"
      ]
     },
     "execution_count": 38,
     "metadata": {},
     "output_type": "execute_result"
    }
   ],
   "source": [
    "wifi.shape"
   ]
  },
  {
   "cell_type": "code",
   "execution_count": 39,
   "metadata": {
    "scrolled": true
   },
   "outputs": [
    {
     "data": {
      "text/html": [
       "<div>\n",
       "<style scoped>\n",
       "    .dataframe tbody tr th:only-of-type {\n",
       "        vertical-align: middle;\n",
       "    }\n",
       "\n",
       "    .dataframe tbody tr th {\n",
       "        vertical-align: top;\n",
       "    }\n",
       "\n",
       "    .dataframe thead th {\n",
       "        text-align: right;\n",
       "    }\n",
       "</style>\n",
       "<table border=\"1\" class=\"dataframe\">\n",
       "  <thead>\n",
       "    <tr style=\"text-align: right;\">\n",
       "      <th></th>\n",
       "      <th>OBJECTID</th>\n",
       "      <th>Provider</th>\n",
       "      <th>Name</th>\n",
       "      <th>Location</th>\n",
       "      <th>Location_T</th>\n",
       "      <th>Remarks</th>\n",
       "      <th>City</th>\n",
       "      <th>SSID</th>\n",
       "      <th>SourceID</th>\n",
       "      <th>Activated</th>\n",
       "      <th>Borough Name</th>\n",
       "      <th>Neighborhood Tabulation Area (NTA)</th>\n",
       "      <th>Council Distrcit</th>\n",
       "      <th>Postcode</th>\n",
       "    </tr>\n",
       "  </thead>\n",
       "  <tbody>\n",
       "    <tr>\n",
       "      <td>1</td>\n",
       "      <td>10447</td>\n",
       "      <td>SPECTRUM</td>\n",
       "      <td>Elmhurst Park</td>\n",
       "      <td>Park Area</td>\n",
       "      <td>Outdoor TWC Aerial</td>\n",
       "      <td>3 free 10 min sessions</td>\n",
       "      <td>Queens</td>\n",
       "      <td>GuestWiFi</td>\n",
       "      <td>0</td>\n",
       "      <td>09/09/9999</td>\n",
       "      <td>Queens</td>\n",
       "      <td>Elmhurst</td>\n",
       "      <td>25</td>\n",
       "      <td>11373</td>\n",
       "    </tr>\n",
       "    <tr>\n",
       "      <td>7</td>\n",
       "      <td>10220</td>\n",
       "      <td>SPECTRUM</td>\n",
       "      <td>Richard Tucker Square</td>\n",
       "      <td>W 66th Street</td>\n",
       "      <td>Outdoor</td>\n",
       "      <td>3 free 10 min sessions</td>\n",
       "      <td>New York</td>\n",
       "      <td>GuestWiFi</td>\n",
       "      <td>0</td>\n",
       "      <td>09/09/9999</td>\n",
       "      <td>Manhattan</td>\n",
       "      <td>Lincoln Square</td>\n",
       "      <td>6</td>\n",
       "      <td>10023</td>\n",
       "    </tr>\n",
       "    <tr>\n",
       "      <td>8</td>\n",
       "      <td>11041</td>\n",
       "      <td>LinkNYC - Citybridge</td>\n",
       "      <td>qu-01-125086</td>\n",
       "      <td>32-21 BROADWAY</td>\n",
       "      <td>Outdoor Kiosk</td>\n",
       "      <td>Tablet Internet -phone , Free 1 GB Wi-FI Service</td>\n",
       "      <td>Queens</td>\n",
       "      <td>LinkNYC Free Wi-Fi</td>\n",
       "      <td>LINK-012889</td>\n",
       "      <td>06/14/2017</td>\n",
       "      <td>Queens</td>\n",
       "      <td>Astoria</td>\n",
       "      <td>22</td>\n",
       "      <td>11106</td>\n",
       "    </tr>\n",
       "    <tr>\n",
       "      <td>9</td>\n",
       "      <td>11631</td>\n",
       "      <td>SPECTRUM</td>\n",
       "      <td>West Harlem Piers</td>\n",
       "      <td>Pier and South Seating Area</td>\n",
       "      <td>Outdoor</td>\n",
       "      <td>3 free 10 min sessions</td>\n",
       "      <td>New York</td>\n",
       "      <td>GuestWiFi</td>\n",
       "      <td>0</td>\n",
       "      <td>09/09/9999</td>\n",
       "      <td>Manhattan</td>\n",
       "      <td>Manhattanville</td>\n",
       "      <td>7</td>\n",
       "      <td>10027</td>\n",
       "    </tr>\n",
       "    <tr>\n",
       "      <td>10</td>\n",
       "      <td>12500</td>\n",
       "      <td>LinkNYC - Citybridge</td>\n",
       "      <td>si-02-125476</td>\n",
       "      <td>19 SEAVIEW AVENUE</td>\n",
       "      <td>Outdoor Kiosk</td>\n",
       "      <td>Tablet Internet -phone , Free 1 GB Wi-FI Service</td>\n",
       "      <td>Staten Island</td>\n",
       "      <td>LinkNYC Free Wi-Fi</td>\n",
       "      <td>LINK-001752</td>\n",
       "      <td>02/28/2017</td>\n",
       "      <td>Staten Island</td>\n",
       "      <td>Old Town-Dongan Hills-South Beach</td>\n",
       "      <td>50</td>\n",
       "      <td>10304</td>\n",
       "    </tr>\n",
       "  </tbody>\n",
       "</table>\n",
       "</div>"
      ],
      "text/plain": [
       "    OBJECTID              Provider                   Name  \\\n",
       "1      10447              SPECTRUM          Elmhurst Park   \n",
       "7      10220              SPECTRUM  Richard Tucker Square   \n",
       "8      11041  LinkNYC - Citybridge           qu-01-125086   \n",
       "9      11631              SPECTRUM      West Harlem Piers   \n",
       "10     12500  LinkNYC - Citybridge           si-02-125476   \n",
       "\n",
       "                       Location          Location_T  \\\n",
       "1                     Park Area  Outdoor TWC Aerial   \n",
       "7                 W 66th Street             Outdoor   \n",
       "8                32-21 BROADWAY       Outdoor Kiosk   \n",
       "9   Pier and South Seating Area             Outdoor   \n",
       "10            19 SEAVIEW AVENUE       Outdoor Kiosk   \n",
       "\n",
       "                                             Remarks           City  \\\n",
       "1                             3 free 10 min sessions         Queens   \n",
       "7                             3 free 10 min sessions       New York   \n",
       "8   Tablet Internet -phone , Free 1 GB Wi-FI Service         Queens   \n",
       "9                             3 free 10 min sessions       New York   \n",
       "10  Tablet Internet -phone , Free 1 GB Wi-FI Service  Staten Island   \n",
       "\n",
       "                  SSID     SourceID   Activated   Borough Name  \\\n",
       "1            GuestWiFi            0  09/09/9999         Queens   \n",
       "7            GuestWiFi            0  09/09/9999      Manhattan   \n",
       "8   LinkNYC Free Wi-Fi  LINK-012889  06/14/2017         Queens   \n",
       "9            GuestWiFi            0  09/09/9999      Manhattan   \n",
       "10  LinkNYC Free Wi-Fi  LINK-001752  02/28/2017  Staten Island   \n",
       "\n",
       "   Neighborhood Tabulation Area (NTA)  Council Distrcit  Postcode  \n",
       "1                            Elmhurst                25     11373  \n",
       "7                      Lincoln Square                 6     10023  \n",
       "8                             Astoria                22     11106  \n",
       "9                      Manhattanville                 7     10027  \n",
       "10  Old Town-Dongan Hills-South Beach                50     10304  "
      ]
     },
     "execution_count": 39,
     "metadata": {},
     "output_type": "execute_result"
    }
   ],
   "source": [
    "wifi = wifi[pd.notnull(wifi['SourceID'])]\n",
    "wifi.head()"
   ]
  },
  {
   "cell_type": "code",
   "execution_count": 40,
   "metadata": {
    "scrolled": true
   },
   "outputs": [],
   "source": [
    "wifi = wifi[wifi.SSID != 'GuestWiFi']"
   ]
  },
  {
   "cell_type": "code",
   "execution_count": 41,
   "metadata": {
    "scrolled": true
   },
   "outputs": [
    {
     "data": {
      "text/html": [
       "<div>\n",
       "<style scoped>\n",
       "    .dataframe tbody tr th:only-of-type {\n",
       "        vertical-align: middle;\n",
       "    }\n",
       "\n",
       "    .dataframe tbody tr th {\n",
       "        vertical-align: top;\n",
       "    }\n",
       "\n",
       "    .dataframe thead th {\n",
       "        text-align: right;\n",
       "    }\n",
       "</style>\n",
       "<table border=\"1\" class=\"dataframe\">\n",
       "  <thead>\n",
       "    <tr style=\"text-align: right;\">\n",
       "      <th></th>\n",
       "      <th>OBJECTID</th>\n",
       "      <th>Provider</th>\n",
       "      <th>Name</th>\n",
       "      <th>Location</th>\n",
       "      <th>Location_T</th>\n",
       "      <th>Remarks</th>\n",
       "      <th>City</th>\n",
       "      <th>SSID</th>\n",
       "      <th>SourceID</th>\n",
       "      <th>Activated</th>\n",
       "      <th>Borough Name</th>\n",
       "      <th>Neighborhood Tabulation Area (NTA)</th>\n",
       "      <th>Council Distrcit</th>\n",
       "      <th>Postcode</th>\n",
       "    </tr>\n",
       "  </thead>\n",
       "  <tbody>\n",
       "    <tr>\n",
       "      <td>8</td>\n",
       "      <td>11041</td>\n",
       "      <td>LinkNYC - Citybridge</td>\n",
       "      <td>qu-01-125086</td>\n",
       "      <td>32-21 BROADWAY</td>\n",
       "      <td>Outdoor Kiosk</td>\n",
       "      <td>Tablet Internet -phone , Free 1 GB Wi-FI Service</td>\n",
       "      <td>Queens</td>\n",
       "      <td>LinkNYC Free Wi-Fi</td>\n",
       "      <td>LINK-012889</td>\n",
       "      <td>06/14/2017</td>\n",
       "      <td>Queens</td>\n",
       "      <td>Astoria</td>\n",
       "      <td>22</td>\n",
       "      <td>11106</td>\n",
       "    </tr>\n",
       "    <tr>\n",
       "      <td>10</td>\n",
       "      <td>12500</td>\n",
       "      <td>LinkNYC - Citybridge</td>\n",
       "      <td>si-02-125476</td>\n",
       "      <td>19 SEAVIEW AVENUE</td>\n",
       "      <td>Outdoor Kiosk</td>\n",
       "      <td>Tablet Internet -phone , Free 1 GB Wi-FI Service</td>\n",
       "      <td>Staten Island</td>\n",
       "      <td>LinkNYC Free Wi-Fi</td>\n",
       "      <td>LINK-001752</td>\n",
       "      <td>02/28/2017</td>\n",
       "      <td>Staten Island</td>\n",
       "      <td>Old Town-Dongan Hills-South Beach</td>\n",
       "      <td>50</td>\n",
       "      <td>10304</td>\n",
       "    </tr>\n",
       "    <tr>\n",
       "      <td>12</td>\n",
       "      <td>10191</td>\n",
       "      <td>LinkNYC - Citybridge</td>\n",
       "      <td>qu-01-145954</td>\n",
       "      <td>43-40 NORTHERN BOULEVARD</td>\n",
       "      <td>Outdoor Kiosk</td>\n",
       "      <td>Tablet Internet -phone , Free 1 GB Wi-FI Service</td>\n",
       "      <td>Queens</td>\n",
       "      <td>LinkNYC Free Wi-Fi</td>\n",
       "      <td>LINK-020932</td>\n",
       "      <td>11/07/2017</td>\n",
       "      <td>Queens</td>\n",
       "      <td>Hunters Point-Sunnyside-West Maspeth</td>\n",
       "      <td>26</td>\n",
       "      <td>11101</td>\n",
       "    </tr>\n",
       "    <tr>\n",
       "      <td>14</td>\n",
       "      <td>11491</td>\n",
       "      <td>LinkNYC - Citybridge</td>\n",
       "      <td>mn-03-123802</td>\n",
       "      <td>237 1 AVENUE</td>\n",
       "      <td>Outdoor Kiosk</td>\n",
       "      <td>Tablet Internet -phone , Free 1 GB Wi-FI Service</td>\n",
       "      <td>New York</td>\n",
       "      <td>LinkNYC Free Wi-Fi</td>\n",
       "      <td>LINK-014015</td>\n",
       "      <td>10/06/2017</td>\n",
       "      <td>Manhattan</td>\n",
       "      <td>East Village</td>\n",
       "      <td>2</td>\n",
       "      <td>10003</td>\n",
       "    </tr>\n",
       "    <tr>\n",
       "      <td>15</td>\n",
       "      <td>10721</td>\n",
       "      <td>LinkNYC - Citybridge</td>\n",
       "      <td>mn-03-139455</td>\n",
       "      <td>242 EAST 10 STREET</td>\n",
       "      <td>Outdoor Kiosk</td>\n",
       "      <td>Tablet Internet -phone , Free 1 GB Wi-FI Service</td>\n",
       "      <td>New York</td>\n",
       "      <td>LinkNYC Free Wi-Fi</td>\n",
       "      <td>LINK-008305</td>\n",
       "      <td>10/06/2017</td>\n",
       "      <td>Manhattan</td>\n",
       "      <td>East Village</td>\n",
       "      <td>2</td>\n",
       "      <td>10003</td>\n",
       "    </tr>\n",
       "  </tbody>\n",
       "</table>\n",
       "</div>"
      ],
      "text/plain": [
       "    OBJECTID              Provider          Name                  Location  \\\n",
       "8      11041  LinkNYC - Citybridge  qu-01-125086            32-21 BROADWAY   \n",
       "10     12500  LinkNYC - Citybridge  si-02-125476         19 SEAVIEW AVENUE   \n",
       "12     10191  LinkNYC - Citybridge  qu-01-145954  43-40 NORTHERN BOULEVARD   \n",
       "14     11491  LinkNYC - Citybridge  mn-03-123802              237 1 AVENUE   \n",
       "15     10721  LinkNYC - Citybridge  mn-03-139455        242 EAST 10 STREET   \n",
       "\n",
       "       Location_T                                           Remarks  \\\n",
       "8   Outdoor Kiosk  Tablet Internet -phone , Free 1 GB Wi-FI Service   \n",
       "10  Outdoor Kiosk  Tablet Internet -phone , Free 1 GB Wi-FI Service   \n",
       "12  Outdoor Kiosk  Tablet Internet -phone , Free 1 GB Wi-FI Service   \n",
       "14  Outdoor Kiosk  Tablet Internet -phone , Free 1 GB Wi-FI Service   \n",
       "15  Outdoor Kiosk  Tablet Internet -phone , Free 1 GB Wi-FI Service   \n",
       "\n",
       "             City                SSID     SourceID   Activated   Borough Name  \\\n",
       "8          Queens  LinkNYC Free Wi-Fi  LINK-012889  06/14/2017         Queens   \n",
       "10  Staten Island  LinkNYC Free Wi-Fi  LINK-001752  02/28/2017  Staten Island   \n",
       "12         Queens  LinkNYC Free Wi-Fi  LINK-020932  11/07/2017         Queens   \n",
       "14       New York  LinkNYC Free Wi-Fi  LINK-014015  10/06/2017      Manhattan   \n",
       "15       New York  LinkNYC Free Wi-Fi  LINK-008305  10/06/2017      Manhattan   \n",
       "\n",
       "      Neighborhood Tabulation Area (NTA)  Council Distrcit  Postcode  \n",
       "8                                Astoria                22     11106  \n",
       "10     Old Town-Dongan Hills-South Beach                50     10304  \n",
       "12  Hunters Point-Sunnyside-West Maspeth                26     11101  \n",
       "14                          East Village                 2     10003  \n",
       "15                          East Village                 2     10003  "
      ]
     },
     "execution_count": 41,
     "metadata": {},
     "output_type": "execute_result"
    }
   ],
   "source": [
    "wifi.head()"
   ]
  },
  {
   "cell_type": "code",
   "execution_count": 42,
   "metadata": {},
   "outputs": [
    {
     "data": {
      "text/plain": [
       "(1914, 14)"
      ]
     },
     "execution_count": 42,
     "metadata": {},
     "output_type": "execute_result"
    }
   ],
   "source": [
    "wifi.shape"
   ]
  },
  {
   "cell_type": "code",
   "execution_count": 43,
   "metadata": {},
   "outputs": [],
   "source": [
    "wifi = wifi.rename(columns={\"Activated\": \"Week\"})"
   ]
  },
  {
   "cell_type": "code",
   "execution_count": 44,
   "metadata": {},
   "outputs": [
    {
     "data": {
      "text/html": [
       "<div>\n",
       "<style scoped>\n",
       "    .dataframe tbody tr th:only-of-type {\n",
       "        vertical-align: middle;\n",
       "    }\n",
       "\n",
       "    .dataframe tbody tr th {\n",
       "        vertical-align: top;\n",
       "    }\n",
       "\n",
       "    .dataframe thead th {\n",
       "        text-align: right;\n",
       "    }\n",
       "</style>\n",
       "<table border=\"1\" class=\"dataframe\">\n",
       "  <thead>\n",
       "    <tr style=\"text-align: right;\">\n",
       "      <th></th>\n",
       "      <th>OBJECTID</th>\n",
       "      <th>Provider</th>\n",
       "      <th>Name</th>\n",
       "      <th>Location</th>\n",
       "      <th>Location_T</th>\n",
       "      <th>Remarks</th>\n",
       "      <th>City</th>\n",
       "      <th>SSID</th>\n",
       "      <th>SourceID</th>\n",
       "      <th>Week</th>\n",
       "      <th>Borough Name</th>\n",
       "      <th>Neighborhood Tabulation Area (NTA)</th>\n",
       "      <th>Council Distrcit</th>\n",
       "      <th>Postcode</th>\n",
       "    </tr>\n",
       "  </thead>\n",
       "  <tbody>\n",
       "    <tr>\n",
       "      <td>8</td>\n",
       "      <td>11041</td>\n",
       "      <td>LinkNYC - Citybridge</td>\n",
       "      <td>qu-01-125086</td>\n",
       "      <td>32-21 BROADWAY</td>\n",
       "      <td>Outdoor Kiosk</td>\n",
       "      <td>Tablet Internet -phone , Free 1 GB Wi-FI Service</td>\n",
       "      <td>Queens</td>\n",
       "      <td>LinkNYC Free Wi-Fi</td>\n",
       "      <td>LINK-012889</td>\n",
       "      <td>06/14/2017</td>\n",
       "      <td>Queens</td>\n",
       "      <td>Astoria</td>\n",
       "      <td>22</td>\n",
       "      <td>11106</td>\n",
       "    </tr>\n",
       "    <tr>\n",
       "      <td>10</td>\n",
       "      <td>12500</td>\n",
       "      <td>LinkNYC - Citybridge</td>\n",
       "      <td>si-02-125476</td>\n",
       "      <td>19 SEAVIEW AVENUE</td>\n",
       "      <td>Outdoor Kiosk</td>\n",
       "      <td>Tablet Internet -phone , Free 1 GB Wi-FI Service</td>\n",
       "      <td>Staten Island</td>\n",
       "      <td>LinkNYC Free Wi-Fi</td>\n",
       "      <td>LINK-001752</td>\n",
       "      <td>02/28/2017</td>\n",
       "      <td>Staten Island</td>\n",
       "      <td>Old Town-Dongan Hills-South Beach</td>\n",
       "      <td>50</td>\n",
       "      <td>10304</td>\n",
       "    </tr>\n",
       "    <tr>\n",
       "      <td>12</td>\n",
       "      <td>10191</td>\n",
       "      <td>LinkNYC - Citybridge</td>\n",
       "      <td>qu-01-145954</td>\n",
       "      <td>43-40 NORTHERN BOULEVARD</td>\n",
       "      <td>Outdoor Kiosk</td>\n",
       "      <td>Tablet Internet -phone , Free 1 GB Wi-FI Service</td>\n",
       "      <td>Queens</td>\n",
       "      <td>LinkNYC Free Wi-Fi</td>\n",
       "      <td>LINK-020932</td>\n",
       "      <td>11/07/2017</td>\n",
       "      <td>Queens</td>\n",
       "      <td>Hunters Point-Sunnyside-West Maspeth</td>\n",
       "      <td>26</td>\n",
       "      <td>11101</td>\n",
       "    </tr>\n",
       "    <tr>\n",
       "      <td>14</td>\n",
       "      <td>11491</td>\n",
       "      <td>LinkNYC - Citybridge</td>\n",
       "      <td>mn-03-123802</td>\n",
       "      <td>237 1 AVENUE</td>\n",
       "      <td>Outdoor Kiosk</td>\n",
       "      <td>Tablet Internet -phone , Free 1 GB Wi-FI Service</td>\n",
       "      <td>New York</td>\n",
       "      <td>LinkNYC Free Wi-Fi</td>\n",
       "      <td>LINK-014015</td>\n",
       "      <td>10/06/2017</td>\n",
       "      <td>Manhattan</td>\n",
       "      <td>East Village</td>\n",
       "      <td>2</td>\n",
       "      <td>10003</td>\n",
       "    </tr>\n",
       "    <tr>\n",
       "      <td>15</td>\n",
       "      <td>10721</td>\n",
       "      <td>LinkNYC - Citybridge</td>\n",
       "      <td>mn-03-139455</td>\n",
       "      <td>242 EAST 10 STREET</td>\n",
       "      <td>Outdoor Kiosk</td>\n",
       "      <td>Tablet Internet -phone , Free 1 GB Wi-FI Service</td>\n",
       "      <td>New York</td>\n",
       "      <td>LinkNYC Free Wi-Fi</td>\n",
       "      <td>LINK-008305</td>\n",
       "      <td>10/06/2017</td>\n",
       "      <td>Manhattan</td>\n",
       "      <td>East Village</td>\n",
       "      <td>2</td>\n",
       "      <td>10003</td>\n",
       "    </tr>\n",
       "  </tbody>\n",
       "</table>\n",
       "</div>"
      ],
      "text/plain": [
       "    OBJECTID              Provider          Name                  Location  \\\n",
       "8      11041  LinkNYC - Citybridge  qu-01-125086            32-21 BROADWAY   \n",
       "10     12500  LinkNYC - Citybridge  si-02-125476         19 SEAVIEW AVENUE   \n",
       "12     10191  LinkNYC - Citybridge  qu-01-145954  43-40 NORTHERN BOULEVARD   \n",
       "14     11491  LinkNYC - Citybridge  mn-03-123802              237 1 AVENUE   \n",
       "15     10721  LinkNYC - Citybridge  mn-03-139455        242 EAST 10 STREET   \n",
       "\n",
       "       Location_T                                           Remarks  \\\n",
       "8   Outdoor Kiosk  Tablet Internet -phone , Free 1 GB Wi-FI Service   \n",
       "10  Outdoor Kiosk  Tablet Internet -phone , Free 1 GB Wi-FI Service   \n",
       "12  Outdoor Kiosk  Tablet Internet -phone , Free 1 GB Wi-FI Service   \n",
       "14  Outdoor Kiosk  Tablet Internet -phone , Free 1 GB Wi-FI Service   \n",
       "15  Outdoor Kiosk  Tablet Internet -phone , Free 1 GB Wi-FI Service   \n",
       "\n",
       "             City                SSID     SourceID        Week   Borough Name  \\\n",
       "8          Queens  LinkNYC Free Wi-Fi  LINK-012889  06/14/2017         Queens   \n",
       "10  Staten Island  LinkNYC Free Wi-Fi  LINK-001752  02/28/2017  Staten Island   \n",
       "12         Queens  LinkNYC Free Wi-Fi  LINK-020932  11/07/2017         Queens   \n",
       "14       New York  LinkNYC Free Wi-Fi  LINK-014015  10/06/2017      Manhattan   \n",
       "15       New York  LinkNYC Free Wi-Fi  LINK-008305  10/06/2017      Manhattan   \n",
       "\n",
       "      Neighborhood Tabulation Area (NTA)  Council Distrcit  Postcode  \n",
       "8                                Astoria                22     11106  \n",
       "10     Old Town-Dongan Hills-South Beach                50     10304  \n",
       "12  Hunters Point-Sunnyside-West Maspeth                26     11101  \n",
       "14                          East Village                 2     10003  \n",
       "15                          East Village                 2     10003  "
      ]
     },
     "execution_count": 44,
     "metadata": {},
     "output_type": "execute_result"
    }
   ],
   "source": [
    "wifi.head()"
   ]
  },
  {
   "cell_type": "code",
   "execution_count": 45,
   "metadata": {
    "scrolled": false
   },
   "outputs": [
    {
     "data": {
      "text/html": [
       "<div>\n",
       "<style scoped>\n",
       "    .dataframe tbody tr th:only-of-type {\n",
       "        vertical-align: middle;\n",
       "    }\n",
       "\n",
       "    .dataframe tbody tr th {\n",
       "        vertical-align: top;\n",
       "    }\n",
       "\n",
       "    .dataframe thead th {\n",
       "        text-align: right;\n",
       "    }\n",
       "</style>\n",
       "<table border=\"1\" class=\"dataframe\">\n",
       "  <thead>\n",
       "    <tr style=\"text-align: right;\">\n",
       "      <th></th>\n",
       "      <th>Week</th>\n",
       "      <th>Sessions Per Week</th>\n",
       "      <th>Cumulative Sessions To Date</th>\n",
       "      <th>Bandwidth Utilization Per Week (TB)</th>\n",
       "      <th>Cumulative Bandwidth Utilization To Date (TB)</th>\n",
       "      <th>Average Session Duration</th>\n",
       "      <th>New Subscribers Per Week</th>\n",
       "      <th>Total Subscribers Per Week</th>\n",
       "      <th>Cumulative Subscribers To Date</th>\n",
       "    </tr>\n",
       "  </thead>\n",
       "  <tbody>\n",
       "    <tr>\n",
       "      <td>0</td>\n",
       "      <td>Week of 2/29/2016</td>\n",
       "      <td>31523</td>\n",
       "      <td>161899</td>\n",
       "      <td>0.418</td>\n",
       "      <td>1.73</td>\n",
       "      <td>00:03:01.000</td>\n",
       "      <td>1022</td>\n",
       "      <td>2391</td>\n",
       "      <td>6116</td>\n",
       "    </tr>\n",
       "    <tr>\n",
       "      <td>1</td>\n",
       "      <td>Week of 3/7/2016</td>\n",
       "      <td>54896</td>\n",
       "      <td>216795</td>\n",
       "      <td>0.635</td>\n",
       "      <td>1.84</td>\n",
       "      <td>00:02:47.000</td>\n",
       "      <td>2216</td>\n",
       "      <td>4041</td>\n",
       "      <td>8357</td>\n",
       "    </tr>\n",
       "    <tr>\n",
       "      <td>2</td>\n",
       "      <td>Week of 3/14/2016</td>\n",
       "      <td>61217</td>\n",
       "      <td>285012</td>\n",
       "      <td>0.602</td>\n",
       "      <td>2.32</td>\n",
       "      <td>00:02:49.000</td>\n",
       "      <td>2587</td>\n",
       "      <td>4983</td>\n",
       "      <td>10984</td>\n",
       "    </tr>\n",
       "    <tr>\n",
       "      <td>3</td>\n",
       "      <td>Week of 3/21/2016</td>\n",
       "      <td>103613</td>\n",
       "      <td>381766</td>\n",
       "      <td>1.103</td>\n",
       "      <td>3.21</td>\n",
       "      <td>00:03:09.000</td>\n",
       "      <td>5223</td>\n",
       "      <td>8322</td>\n",
       "      <td>15920</td>\n",
       "    </tr>\n",
       "    <tr>\n",
       "      <td>4</td>\n",
       "      <td>Week of 3/28/2016</td>\n",
       "      <td>158420</td>\n",
       "      <td>540186</td>\n",
       "      <td>1.315</td>\n",
       "      <td>5.28</td>\n",
       "      <td>00:02:53.000</td>\n",
       "      <td>6235</td>\n",
       "      <td>10961</td>\n",
       "      <td>22232</td>\n",
       "    </tr>\n",
       "  </tbody>\n",
       "</table>\n",
       "</div>"
      ],
      "text/plain": [
       "                Week  Sessions Per Week  Cumulative Sessions To Date  \\\n",
       "0  Week of 2/29/2016              31523                       161899   \n",
       "1   Week of 3/7/2016              54896                       216795   \n",
       "2  Week of 3/14/2016              61217                       285012   \n",
       "3  Week of 3/21/2016             103613                       381766   \n",
       "4  Week of 3/28/2016             158420                       540186   \n",
       "\n",
       "   Bandwidth Utilization Per Week (TB)  \\\n",
       "0                                0.418   \n",
       "1                                0.635   \n",
       "2                                0.602   \n",
       "3                                1.103   \n",
       "4                                1.315   \n",
       "\n",
       "   Cumulative Bandwidth Utilization To Date (TB) Average Session Duration  \\\n",
       "0                                           1.73             00:03:01.000   \n",
       "1                                           1.84             00:02:47.000   \n",
       "2                                           2.32             00:02:49.000   \n",
       "3                                           3.21             00:03:09.000   \n",
       "4                                           5.28             00:02:53.000   \n",
       "\n",
       "   New Subscribers Per Week  Total Subscribers Per Week  \\\n",
       "0                      1022                        2391   \n",
       "1                      2216                        4041   \n",
       "2                      2587                        4983   \n",
       "3                      5223                        8322   \n",
       "4                      6235                       10961   \n",
       "\n",
       "   Cumulative Subscribers To Date  \n",
       "0                            6116  \n",
       "1                            8357  \n",
       "2                           10984  \n",
       "3                           15920  \n",
       "4                           22232  "
      ]
     },
     "execution_count": 45,
     "metadata": {},
     "output_type": "execute_result"
    }
   ],
   "source": [
    "usage.head()"
   ]
  },
  {
   "cell_type": "code",
   "execution_count": 46,
   "metadata": {
    "scrolled": true
   },
   "outputs": [
    {
     "data": {
      "text/plain": [
       "Index(['Week', 'Sessions Per Week', 'Cumulative Sessions To Date',\n",
       "       'Bandwidth Utilization Per Week (TB)',\n",
       "       'Cumulative Bandwidth Utilization To Date (TB)',\n",
       "       'Average Session Duration', 'New Subscribers Per Week',\n",
       "       'Total Subscribers Per Week', 'Cumulative Subscribers To Date'],\n",
       "      dtype='object')"
      ]
     },
     "execution_count": 46,
     "metadata": {},
     "output_type": "execute_result"
    }
   ],
   "source": [
    "usage.columns"
   ]
  },
  {
   "cell_type": "code",
   "execution_count": 47,
   "metadata": {
    "scrolled": false
   },
   "outputs": [
    {
     "data": {
      "text/html": [
       "<div>\n",
       "<style scoped>\n",
       "    .dataframe tbody tr th:only-of-type {\n",
       "        vertical-align: middle;\n",
       "    }\n",
       "\n",
       "    .dataframe tbody tr th {\n",
       "        vertical-align: top;\n",
       "    }\n",
       "\n",
       "    .dataframe thead th {\n",
       "        text-align: right;\n",
       "    }\n",
       "</style>\n",
       "<table border=\"1\" class=\"dataframe\">\n",
       "  <thead>\n",
       "    <tr style=\"text-align: right;\">\n",
       "      <th></th>\n",
       "      <th>Period</th>\n",
       "      <th>Sessions Per Week</th>\n",
       "      <th>Cumulative Sessions To Date</th>\n",
       "      <th>Bandwidth Utilization Per Week (TB)</th>\n",
       "      <th>Cumulative Bandwidth Utilization To Date (TB)</th>\n",
       "      <th>Average Session Duration</th>\n",
       "      <th>New Subscribers Per Week</th>\n",
       "      <th>Total Subscribers Per Week</th>\n",
       "      <th>Cumulative Subscribers To Date</th>\n",
       "    </tr>\n",
       "  </thead>\n",
       "  <tbody>\n",
       "    <tr>\n",
       "      <td>0</td>\n",
       "      <td>Week of 2/29/2016</td>\n",
       "      <td>31523</td>\n",
       "      <td>161899</td>\n",
       "      <td>0.418</td>\n",
       "      <td>1.73</td>\n",
       "      <td>00:03:01.000</td>\n",
       "      <td>1022</td>\n",
       "      <td>2391</td>\n",
       "      <td>6116</td>\n",
       "    </tr>\n",
       "    <tr>\n",
       "      <td>1</td>\n",
       "      <td>Week of 3/7/2016</td>\n",
       "      <td>54896</td>\n",
       "      <td>216795</td>\n",
       "      <td>0.635</td>\n",
       "      <td>1.84</td>\n",
       "      <td>00:02:47.000</td>\n",
       "      <td>2216</td>\n",
       "      <td>4041</td>\n",
       "      <td>8357</td>\n",
       "    </tr>\n",
       "    <tr>\n",
       "      <td>2</td>\n",
       "      <td>Week of 3/14/2016</td>\n",
       "      <td>61217</td>\n",
       "      <td>285012</td>\n",
       "      <td>0.602</td>\n",
       "      <td>2.32</td>\n",
       "      <td>00:02:49.000</td>\n",
       "      <td>2587</td>\n",
       "      <td>4983</td>\n",
       "      <td>10984</td>\n",
       "    </tr>\n",
       "    <tr>\n",
       "      <td>3</td>\n",
       "      <td>Week of 3/21/2016</td>\n",
       "      <td>103613</td>\n",
       "      <td>381766</td>\n",
       "      <td>1.103</td>\n",
       "      <td>3.21</td>\n",
       "      <td>00:03:09.000</td>\n",
       "      <td>5223</td>\n",
       "      <td>8322</td>\n",
       "      <td>15920</td>\n",
       "    </tr>\n",
       "    <tr>\n",
       "      <td>4</td>\n",
       "      <td>Week of 3/28/2016</td>\n",
       "      <td>158420</td>\n",
       "      <td>540186</td>\n",
       "      <td>1.315</td>\n",
       "      <td>5.28</td>\n",
       "      <td>00:02:53.000</td>\n",
       "      <td>6235</td>\n",
       "      <td>10961</td>\n",
       "      <td>22232</td>\n",
       "    </tr>\n",
       "  </tbody>\n",
       "</table>\n",
       "</div>"
      ],
      "text/plain": [
       "              Period  Sessions Per Week  Cumulative Sessions To Date  \\\n",
       "0  Week of 2/29/2016              31523                       161899   \n",
       "1   Week of 3/7/2016              54896                       216795   \n",
       "2  Week of 3/14/2016              61217                       285012   \n",
       "3  Week of 3/21/2016             103613                       381766   \n",
       "4  Week of 3/28/2016             158420                       540186   \n",
       "\n",
       "   Bandwidth Utilization Per Week (TB)  \\\n",
       "0                                0.418   \n",
       "1                                0.635   \n",
       "2                                0.602   \n",
       "3                                1.103   \n",
       "4                                1.315   \n",
       "\n",
       "   Cumulative Bandwidth Utilization To Date (TB) Average Session Duration  \\\n",
       "0                                           1.73             00:03:01.000   \n",
       "1                                           1.84             00:02:47.000   \n",
       "2                                           2.32             00:02:49.000   \n",
       "3                                           3.21             00:03:09.000   \n",
       "4                                           5.28             00:02:53.000   \n",
       "\n",
       "   New Subscribers Per Week  Total Subscribers Per Week  \\\n",
       "0                      1022                        2391   \n",
       "1                      2216                        4041   \n",
       "2                      2587                        4983   \n",
       "3                      5223                        8322   \n",
       "4                      6235                       10961   \n",
       "\n",
       "   Cumulative Subscribers To Date  \n",
       "0                            6116  \n",
       "1                            8357  \n",
       "2                           10984  \n",
       "3                           15920  \n",
       "4                           22232  "
      ]
     },
     "execution_count": 47,
     "metadata": {},
     "output_type": "execute_result"
    }
   ],
   "source": [
    "usage = usage.rename(columns={\"Week\": \"Period\"})\n",
    "usage.head()"
   ]
  },
  {
   "cell_type": "code",
   "execution_count": 48,
   "metadata": {
    "scrolled": true
   },
   "outputs": [
    {
     "data": {
      "text/plain": [
       "Text(150, 79.86, 'Christmas')"
      ]
     },
     "execution_count": 48,
     "metadata": {},
     "output_type": "execute_result"
    },
    {
     "data": {
      "image/png": "[encoded data removed]",
      "text/plain": [
       "<Figure size 1080x1440 with 1 Axes>"
      ]
     },
     "metadata": {
      "needs_background": "light"
     },
     "output_type": "display_data"
    }
   ],
   "source": [
    "ax = usage.plot.line(x='Period', y='Bandwidth Utilization Per Week (TB)', \n",
    "                figsize=(15, 20), linewidth=2.5, color='green')\n",
    "plt.ylabel(\"Data Transfer(TB)\")\n",
    "style = dict(size=15, color='gray')\n",
    "\n",
    "ax.text(70, 46.85, \"Independence Day\",  ha='center', **style)\n",
    "ax.text(135, 77.58, \"Independence Day\",  ha='center', **style)\n",
    "ax.text(94, 52.52, \"Christmas\",  ha='center', **style)\n",
    "ax.text(150, 79.86, \"Christmas\",  ha='center', **style)\n"
   ]
  },
  {
   "cell_type": "code",
   "execution_count": 49,
   "metadata": {
    "scrolled": true
   },
   "outputs": [
    {
     "data": {
      "image/png": "[encoded data removed]",
      "text/plain": [
       "<Figure size 432x288 with 1 Axes>"
      ]
     },
     "metadata": {
      "needs_background": "light"
     },
     "output_type": "display_data"
    }
   ],
   "source": [
    "sessions = usage['Sessions Per Week']\n",
    "data_transfer = usage['Bandwidth Utilization Per Week (TB)']\n",
    "plt.scatter(sessions, data_transfer)\n",
    "plt.xlabel(\"Sessions Per Week\")\n",
    "plt.ylabel(\"Data Transfer(TB)\")\n",
    "#plt.xticks(sessions, rotation=90)\n",
    "plt.show()"
   ]
  },
  {
   "cell_type": "code",
   "execution_count": 50,
   "metadata": {},
   "outputs": [
    {
     "name": "stdout",
     "output_type": "stream",
     "text": [
      "The correlation coefficient between sessions and data transfer is 0.92\n"
     ]
    }
   ],
   "source": [
    "r = st.pearsonr(sessions,data_transfer)[0]\n",
    "print(f\"The correlation coefficient between sessions and data transfer is {round(r, 2)}\")"
   ]
  },
  {
   "cell_type": "code",
   "execution_count": 51,
   "metadata": {},
   "outputs": [
    {
     "data": {
      "image/png": "[encoded data removed]",
      "text/plain": [
       "<Figure size 432x288 with 1 Axes>"
      ]
     },
     "metadata": {
      "needs_background": "light"
     },
     "output_type": "display_data"
    }
   ],
   "source": [
    "total_data_transfers = usage['Cumulative Bandwidth Utilization To Date (TB)']\n",
    "total_subscribers = usage['Cumulative Subscribers To Date']\n",
    "plt.scatter(total_subscribers, total_data_transfers)\n",
    "plt.xlabel(\"Cumulative Subscribers\")\n",
    "plt.ylabel(\"Cumulative Data Transfer(TB)\")\n",
    "plt.title(\"Cumulative Data Transfer-Cumulative Subscribers\")\n",
    "#plt.xticks(sessions, rotation=90)\n",
    "plt.show()"
   ]
  },
  {
   "cell_type": "code",
   "execution_count": 52,
   "metadata": {
    "scrolled": true
   },
   "outputs": [
    {
     "name": "stdout",
     "output_type": "stream",
     "text": [
      "The correlation coefficient between cumulative subscriber and cumulative data transfer is 0.99\n"
     ]
    }
   ],
   "source": [
    "r = st.pearsonr(total_subscribers, total_data_transfers)[0]\n",
    "print(f\"The correlation coefficient between cumulative subscriber and cumulative data transfer is {round(r, 2)}\")"
   ]
  },
  {
   "cell_type": "code",
   "execution_count": 53,
   "metadata": {},
   "outputs": [
    {
     "name": "stdout",
     "output_type": "stream",
     "text": [
      "Average usage of internet from 'LinkNYC Free Wi-Fi' hotspots is 1.7 gigabytes. per device between January 19th 2016 - December 30th 2019\n"
     ]
    }
   ],
   "source": [
    "a = usage['Cumulative Bandwidth Utilization To Date (TB)'].max()\n",
    "b = usage['Cumulative Subscribers To Date'].max()\n",
    "\n",
    "c = (a / b) * 1000\n",
    "print(f\"Average usage of internet from 'LinkNYC Free Wi-Fi' hotspots is {round(c,2)} gigabytes. per device between January 19th 2016 - December 30th 2019\" )"
   ]
  },
  {
   "cell_type": "code",
   "execution_count": 56,
   "metadata": {},
   "outputs": [
    {
     "data": {
      "text/plain": [
       "0.001696301477728423"
      ]
     },
     "execution_count": 56,
     "metadata": {},
     "output_type": "execute_result"
    }
   ],
   "source": [
    "x = a / b \n",
    "x"
   ]
  },
  {
   "cell_type": "code",
   "execution_count": 118,
   "metadata": {},
   "outputs": [
    {
     "data": {
      "text/plain": [
       "12.43"
      ]
     },
     "execution_count": 118,
     "metadata": {},
     "output_type": "execute_result"
    }
   ],
   "source": [
    "mean_2016 = usage.head(44)\n",
    "a = data_2016[\"Bandwidth Utilization Per Week (TB)\"].mean()\n",
    "mean_2016 = round(a, 2)\n",
    "mean_2016"
   ]
  },
  {
   "cell_type": "code",
   "execution_count": 120,
   "metadata": {},
   "outputs": [
    {
     "data": {
      "text/plain": [
       "51.89"
      ]
     },
     "execution_count": 120,
     "metadata": {},
     "output_type": "execute_result"
    }
   ],
   "source": [
    "mean_2017 = usage.iloc[45: 94:]\n",
    "b = mean_2017 = mean_2017[\"Bandwidth Utilization Per Week (TB)\"].mean()\n",
    "mean_2017 = round(b, 2)\n",
    "mean_2017"
   ]
  },
  {
   "cell_type": "code",
   "execution_count": 122,
   "metadata": {},
   "outputs": [
    {
     "data": {
      "text/plain": [
       "81.49"
      ]
     },
     "execution_count": 122,
     "metadata": {},
     "output_type": "execute_result"
    }
   ],
   "source": [
    "mean_2018 = usage.iloc[95: 148:]\n",
    "c = mean_2018[\"Bandwidth Utilization Per Week (TB)\"].mean()\n",
    "#mean_2018.head(52)\n",
    "mean_2018 = round(c, 2)\n",
    "mean_2018"
   ]
  },
  {
   "cell_type": "code",
   "execution_count": 123,
   "metadata": {},
   "outputs": [
    {
     "data": {
      "text/plain": [
       "101.94"
      ]
     },
     "execution_count": 123,
     "metadata": {},
     "output_type": "execute_result"
    }
   ],
   "source": [
    "mean_2019 = usage.iloc[147: 201:]\n",
    "d = mean_2019[\"Bandwidth Utilization Per Week (TB)\"].mean()\n",
    "#mean_2019.head(55)\n",
    "mean_2019 = round(d, 2)\n",
    "mean_2019"
   ]
  },
  {
   "cell_type": "code",
   "execution_count": 135,
   "metadata": {},
   "outputs": [
    {
     "data": {
      "image/png": "[encoded data removed]",
      "text/plain": [
       "<Figure size 432x288 with 1 Axes>"
      ]
     },
     "metadata": {},
     "output_type": "display_data"
    }
   ],
   "source": [
    "my_data = [12.43,51.89,81.49,101.94]\n",
    "my_labels = 'mean_2016','mean_2017','mean_2018','mean_2019'\n",
    "my_colors = ['lightblue','lightsteelblue','silver','orange']\n",
    "size = figsize=(6, 3)\n",
    "\n",
    "plt.pie(my_data,labels=my_labels,autopct='%1.1f%%',colors=my_colors)\n",
    "\n",
    "plt.title('Distribution of Usage by Year')\n",
    "#plt.axis('equal')\n",
    "plt.show()"
   ]
  },
  {
   "cell_type": "code",
   "execution_count": null,
   "metadata": {},
   "outputs": [],
   "source": []
  }
 ],
 "metadata": {
  "kernelspec": {
   "display_name": "Python 3",
   "language": "python",
   "name": "python3"
  },
  "language_info": {
   "codemirror_mode": {
    "name": "ipython",
    "version": 3
   },
   "file_extension": ".py",
   "mimetype": "text/x-python",
   "name": "python",
   "nbconvert_exporter": "python",
   "pygments_lexer": "ipython3",
   "version": "3.7.4"
  }
 },
 "nbformat": 4,
 "nbformat_minor": 2
}
